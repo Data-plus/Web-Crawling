{
 "cells": [
  {
   "cell_type": "code",
   "execution_count": 230,
   "metadata": {},
   "outputs": [],
   "source": [
    "import requests\n",
    "from bs4 import BeautifulSoup as bs\n",
    "from selenium import webdriver\n",
    "import pandas as pd\n",
    "import re"
   ]
  },
  {
   "cell_type": "code",
   "execution_count": 25,
   "metadata": {},
   "outputs": [],
   "source": [
    "def get_html(url):\n",
    "   _html = \"\"\n",
    "   resp = requests.get(url)\n",
    "   if resp.status_code == 200:\n",
    "      _html = resp.text\n",
    "   return _html\n",
    "\n",
    "driver = webdriver.Chrome('/Users/plus/Downloads/chromedriver')"
   ]
  },
  {
   "cell_type": "code",
   "execution_count": 26,
   "metadata": {},
   "outputs": [],
   "source": [
    "URL = \"https://smartstore.naver.com/pet1/products/3748418081#revw\"\n",
    "html = get_html(URL)\n",
    "soup = bs(html, 'html.parser')"
   ]
  },
  {
   "cell_type": "code",
   "execution_count": 27,
   "metadata": {},
   "outputs": [],
   "source": [
    "# Set time wait\n",
    "driver.implicitly_wait(3)"
   ]
  },
  {
   "cell_type": "code",
   "execution_count": 28,
   "metadata": {},
   "outputs": [],
   "source": [
    "# Get the URL\n",
    "driver.get(URL)"
   ]
  },
  {
   "cell_type": "markdown",
   "metadata": {},
   "source": [
    "## Define Get Functions"
   ]
  },
  {
   "cell_type": "code",
   "execution_count": 415,
   "metadata": {
    "scrolled": true
   },
   "outputs": [],
   "source": [
    "# Woolworth price crawling\n",
    "def get_woolworth():\n",
    "    html = driver.page_source\n",
    "    soup = bs(html, 'html.parser')\n",
    "\n",
    "    user_id = soup.select('div[class=area_status_user]')\n",
    "    prices = soup.select('div[class=shelfProductTile-cupPrice]')\n",
    "\n",
    "    title = []\n",
    "    price = []\n",
    "\n",
    "    for t in titles:\n",
    "        title.append(t.text.strip())\n",
    "\n",
    "    for p in prices:\n",
    "        price.append(p.text.strip())\n",
    "    \n",
    "    return title, price"
   ]
  },
  {
   "cell_type": "code",
   "execution_count": 30,
   "metadata": {
    "scrolled": true
   },
   "outputs": [],
   "source": [
    "# Price - Name ValueError: arrays must all be same length\n",
    "df_ww = pd.DataFrame({'Product':get_woolworth()[0], 'Price':get_woolworth()[1]})"
   ]
  },
  {
   "cell_type": "code",
   "execution_count": null,
   "metadata": {},
   "outputs": [],
   "source": []
  },
  {
   "cell_type": "markdown",
   "metadata": {},
   "source": [
    "### Review Crawler"
   ]
  },
  {
   "cell_type": "markdown",
   "metadata": {},
   "source": [
    "**Naver Review Crawler** starts here"
   ]
  },
  {
   "cell_type": "code",
   "execution_count": 339,
   "metadata": {
    "scrolled": true
   },
   "outputs": [],
   "source": [
    "html = driver.page_source\n",
    "soup = bs(html, 'html.parser')\n",
    "user_detail = soup.select('div[class=area_status_user]')\n",
    "user_star = soup.select('span[class=number_grade]')\n",
    "user_review = soup.select('p > span[class=text]')\n",
    "\n",
    "user_details = []\n",
    "user_stars = []\n",
    "user_reviews = []\n",
    "\n",
    "# for star in user_star:\n",
    "#     print(star.text.strip())\n",
    "for ud in user_detail:\n",
    "    user_details.append(ud.text.strip('\\n신고').splitlines())\n",
    "\n",
    "for star in user_star:\n",
    "    user_stars.append(star.text.strip())\n",
    "    \n",
    "for review in user_review:\n",
    "    user_reviews.append(review.extract().prettify().strip('<span class=\"text\">').strip('</').replace('\\n ', '').replace('\\n', ''))"
   ]
  },
  {
   "cell_type": "code",
   "execution_count": 408,
   "metadata": {
    "scrolled": true
   },
   "outputs": [],
   "source": [
    "# Seperate UID, PD, Option\n",
    "user_id = []\n",
    "purchase_date = []\n",
    "option = []\n",
    "for i in range(len(user_details)):\n",
    "    user_id.append(user_details[i][0])\n",
    "    purchase_date.append(user_details[i][1])\n",
    "    option.append(user_details[i][2])"
   ]
  },
  {
   "cell_type": "code",
   "execution_count": 412,
   "metadata": {},
   "outputs": [],
   "source": [
    "df = pd.DataFrame({'User_Stars' : user_stars[4:], 'User_ID' : user_id, 'Purchase_Date' : purchase_date,\n",
    "                   'Option': option, 'User_Reviews' : user_reviews, })"
   ]
  },
  {
   "cell_type": "code",
   "execution_count": 413,
   "metadata": {
    "scrolled": true
   },
   "outputs": [
    {
     "data": {
      "text/html": [
       "<div>\n",
       "<style scoped>\n",
       "    .dataframe tbody tr th:only-of-type {\n",
       "        vertical-align: middle;\n",
       "    }\n",
       "\n",
       "    .dataframe tbody tr th {\n",
       "        vertical-align: top;\n",
       "    }\n",
       "\n",
       "    .dataframe thead th {\n",
       "        text-align: right;\n",
       "    }\n",
       "</style>\n",
       "<table border=\"1\" class=\"dataframe\">\n",
       "  <thead>\n",
       "    <tr style=\"text-align: right;\">\n",
       "      <th></th>\n",
       "      <th>User_Stars</th>\n",
       "      <th>User_ID</th>\n",
       "      <th>Purchase_Date</th>\n",
       "      <th>Option</th>\n",
       "      <th>User_Reviews</th>\n",
       "    </tr>\n",
       "  </thead>\n",
       "  <tbody>\n",
       "    <tr>\n",
       "      <th>0</th>\n",
       "      <td>5</td>\n",
       "      <td>myj3****</td>\n",
       "      <td>19.02.13.</td>\n",
       "      <td>옵션 : 색상: 화이트 + 사은품(필터5개)</td>\n",
       "      <td>작은데 분무량이 나름 좋아요 흰색에 귀여운 토끼 모양까지 맘에들어요계속 분사와 삼초...</td>\n",
       "    </tr>\n",
       "    <tr>\n",
       "      <th>1</th>\n",
       "      <td>5</td>\n",
       "      <td>rudt****</td>\n",
       "      <td>19.01.20.</td>\n",
       "      <td>옵션 : 색상: 화이트 + 사은품(필터5개)</td>\n",
       "      <td>넘나 넘나리 만족합니다!!! 필터까지 주셔서 오래오래 잘 쓸 것 같아요!소음 문제도...</td>\n",
       "    </tr>\n",
       "    <tr>\n",
       "      <th>2</th>\n",
       "      <td>5</td>\n",
       "      <td>1987****</td>\n",
       "      <td>19.01.25.</td>\n",
       "      <td>옵션 : 색상: 화이트 + 사은품(필터5개)</td>\n",
       "      <td>방금 받았어요 회사 히터때문에 너무 건조해서 구매했는데 생각했던것보다는 작더라구요 ...</td>\n",
       "    </tr>\n",
       "    <tr>\n",
       "      <th>3</th>\n",
       "      <td>5</td>\n",
       "      <td>yhun****</td>\n",
       "      <td>18.12.30.</td>\n",
       "      <td>옵션 : 색상: 화이트</td>\n",
       "      <td>크기에 비해서 분무량 짱짱해요. 설명대로 8~9시간 사용가능하고 청소도 간편해요. ...</td>\n",
       "    </tr>\n",
       "    <tr>\n",
       "      <th>4</th>\n",
       "      <td>2</td>\n",
       "      <td>park****</td>\n",
       "      <td>19.02.12.</td>\n",
       "      <td>옵션 : 색상: 화이트 + 사은품(필터5개)</td>\n",
       "      <td>9시간이 아니라 6 시간정도 지나니까 금방 꺼지내요~ 또 분사력도 생각보다 약하구 ...</td>\n",
       "    </tr>\n",
       "    <tr>\n",
       "      <th>5</th>\n",
       "      <td>3</td>\n",
       "      <td>shor****</td>\n",
       "      <td>18.12.28.</td>\n",
       "      <td>옵션 : 색상: 화이트</td>\n",
       "      <td>친구가 쓰는거 빌려썼다가 소음도 없이 분사력도 엄청 좋길래 구매했습니다.앞에 그림은...</td>\n",
       "    </tr>\n",
       "    <tr>\n",
       "      <th>6</th>\n",
       "      <td>4</td>\n",
       "      <td>cndj****</td>\n",
       "      <td>19.01.23.</td>\n",
       "      <td>옵션 : 색상: 민트</td>\n",
       "      <td>잠깐 틀어봤는데 집에있는 다른 가습기보다 분무량이 훨씬 많아서 깜짝놀랐네요;;; 가...</td>\n",
       "    </tr>\n",
       "    <tr>\n",
       "      <th>7</th>\n",
       "      <td>5</td>\n",
       "      <td>ko84****</td>\n",
       "      <td>19.01.29.</td>\n",
       "      <td>옵션 : 색상: 화이트 + 사은품(필터5개)</td>\n",
       "      <td>사는 김에 필터 5개 더 받는 흰색으로 구매했어요. 깔끔하고 귀엽네요. 분사력도 괜...</td>\n",
       "    </tr>\n",
       "    <tr>\n",
       "      <th>8</th>\n",
       "      <td>5</td>\n",
       "      <td>iewo****</td>\n",
       "      <td>19.01.04.</td>\n",
       "      <td>옵션 : 색상: 화이트</td>\n",
       "      <td>사무실에서 씁니다. 이리저리 색깔있는것 보다 흰색이 깨끗하고 심플해서 좋네요. 설명...</td>\n",
       "    </tr>\n",
       "    <tr>\n",
       "      <th>9</th>\n",
       "      <td>5</td>\n",
       "      <td>skfr****</td>\n",
       "      <td>19.01.03.</td>\n",
       "      <td>옵션 : 색상: 화이트</td>\n",
       "      <td>아주 미니미니하지만 분사력은 정말 마음에 듭니다.약할줄 알았는데 정말 좋아요@ 무드...</td>\n",
       "    </tr>\n",
       "    <tr>\n",
       "      <th>10</th>\n",
       "      <td>5</td>\n",
       "      <td>babo****</td>\n",
       "      <td>18.12.12.</td>\n",
       "      <td>옵션 : 색상: 색상랜덤(임의)발송</td>\n",
       "      <td>분사력최고네요색상랜덤해서 2천원 싸게 샀는데 여기에 판매하는 색상은 파스텔톤색이라 ...</td>\n",
       "    </tr>\n",
       "    <tr>\n",
       "      <th>11</th>\n",
       "      <td>4</td>\n",
       "      <td>dbrd****</td>\n",
       "      <td>18.12.07.</td>\n",
       "      <td>옵션 : 색상: 핑크</td>\n",
       "      <td>화요일쯤 받아서 사용중인데 쪼꼬만게 분사력도 쎄고 좋아요 ㅎㅎ 물을 max까지 받아...</td>\n",
       "    </tr>\n",
       "    <tr>\n",
       "      <th>12</th>\n",
       "      <td>5</td>\n",
       "      <td>qksd****</td>\n",
       "      <td>19.01.08.</td>\n",
       "      <td>옵션 : 색상: 화이트</td>\n",
       "      <td>너무 귀엽고, 성능도 괜찮네요. 미니여서 잘 안될줄 알았는데, 생각보다 분무량도 많...</td>\n",
       "    </tr>\n",
       "    <tr>\n",
       "      <th>13</th>\n",
       "      <td>4</td>\n",
       "      <td>teso****</td>\n",
       "      <td>18.12.30.</td>\n",
       "      <td>옵션 : 색상: 화이트</td>\n",
       "      <td>배송 빨라서 좋습니다. 주문 다음날 바로 왔어요 실물 앙증맞고 귀엽네요ㅋㅋ 가습 잘...</td>\n",
       "    </tr>\n",
       "    <tr>\n",
       "      <th>14</th>\n",
       "      <td>5</td>\n",
       "      <td>hara****</td>\n",
       "      <td>18.12.27.</td>\n",
       "      <td>옵션 : 색상: 화이트</td>\n",
       "      <td>배송도 바로 보내주시고 화이트라 할인된가격에필터까지 다섯개 추가로 더ㅈ받았으니 완전...</td>\n",
       "    </tr>\n",
       "    <tr>\n",
       "      <th>15</th>\n",
       "      <td>5</td>\n",
       "      <td>marv****</td>\n",
       "      <td>18.12.19.</td>\n",
       "      <td>옵션 : 색상: 핑크</td>\n",
       "      <td>가습기 사면서 고려했던건 딱 두개에요 분사력과 세척이 쉬운지. 세척이 번거로우면 비...</td>\n",
       "    </tr>\n",
       "    <tr>\n",
       "      <th>16</th>\n",
       "      <td>4</td>\n",
       "      <td>dlsg****</td>\n",
       "      <td>18.12.15.</td>\n",
       "      <td>옵션 : 색상: 핑크</td>\n",
       "      <td>배송 빠르고요오자마자 사용해봤어요일단 디자인은 진짜 이뻐요사이즈도  작아서 책상에 ...</td>\n",
       "    </tr>\n",
       "    <tr>\n",
       "      <th>17</th>\n",
       "      <td>3</td>\n",
       "      <td>sen3****</td>\n",
       "      <td>19.01.03.</td>\n",
       "      <td>옵션 : 색상: 화이트</td>\n",
       "      <td>가격대비 제품구성이나 가습기능, 전등기능 괜찮은 편입니다.다만, USB연결선이 불량...</td>\n",
       "    </tr>\n",
       "    <tr>\n",
       "      <th>18</th>\n",
       "      <td>5</td>\n",
       "      <td>somi****</td>\n",
       "      <td>18.12.13.</td>\n",
       "      <td>옵션 : 색상: 핑크</td>\n",
       "      <td>비염이 심해서 구입했습니다. 생각보다 분무량 넉넉하구요, max로 채워서 꺼짐없이계...</td>\n",
       "    </tr>\n",
       "    <tr>\n",
       "      <th>19</th>\n",
       "      <td>5</td>\n",
       "      <td>tint****</td>\n",
       "      <td>18.11.27.</td>\n",
       "      <td>옵션 : 색상: 화이트</td>\n",
       "      <td>주문하고 그 다음날 받았습니다 디자인은 화면 그대로 깔끔하고 귀엽습니다분무량 좋습니...</td>\n",
       "    </tr>\n",
       "  </tbody>\n",
       "</table>\n",
       "</div>"
      ],
      "text/plain": [
       "   User_Stars   User_ID Purchase_Date                    Option  \\\n",
       "0           5  myj3****     19.02.13.  옵션 : 색상: 화이트 + 사은품(필터5개)   \n",
       "1           5  rudt****     19.01.20.  옵션 : 색상: 화이트 + 사은품(필터5개)   \n",
       "2           5  1987****     19.01.25.  옵션 : 색상: 화이트 + 사은품(필터5개)   \n",
       "3           5  yhun****     18.12.30.              옵션 : 색상: 화이트   \n",
       "4           2  park****     19.02.12.  옵션 : 색상: 화이트 + 사은품(필터5개)   \n",
       "5           3  shor****     18.12.28.              옵션 : 색상: 화이트   \n",
       "6           4  cndj****     19.01.23.               옵션 : 색상: 민트   \n",
       "7           5  ko84****     19.01.29.  옵션 : 색상: 화이트 + 사은품(필터5개)   \n",
       "8           5  iewo****     19.01.04.              옵션 : 색상: 화이트   \n",
       "9           5  skfr****     19.01.03.              옵션 : 색상: 화이트   \n",
       "10          5  babo****     18.12.12.       옵션 : 색상: 색상랜덤(임의)발송   \n",
       "11          4  dbrd****     18.12.07.               옵션 : 색상: 핑크   \n",
       "12          5  qksd****     19.01.08.              옵션 : 색상: 화이트   \n",
       "13          4  teso****     18.12.30.              옵션 : 색상: 화이트   \n",
       "14          5  hara****     18.12.27.              옵션 : 색상: 화이트   \n",
       "15          5  marv****     18.12.19.               옵션 : 색상: 핑크   \n",
       "16          4  dlsg****     18.12.15.               옵션 : 색상: 핑크   \n",
       "17          3  sen3****     19.01.03.              옵션 : 색상: 화이트   \n",
       "18          5  somi****     18.12.13.               옵션 : 색상: 핑크   \n",
       "19          5  tint****     18.11.27.              옵션 : 색상: 화이트   \n",
       "\n",
       "                                         User_Reviews  \n",
       "0   작은데 분무량이 나름 좋아요 흰색에 귀여운 토끼 모양까지 맘에들어요계속 분사와 삼초...  \n",
       "1   넘나 넘나리 만족합니다!!! 필터까지 주셔서 오래오래 잘 쓸 것 같아요!소음 문제도...  \n",
       "2   방금 받았어요 회사 히터때문에 너무 건조해서 구매했는데 생각했던것보다는 작더라구요 ...  \n",
       "3   크기에 비해서 분무량 짱짱해요. 설명대로 8~9시간 사용가능하고 청소도 간편해요. ...  \n",
       "4   9시간이 아니라 6 시간정도 지나니까 금방 꺼지내요~ 또 분사력도 생각보다 약하구 ...  \n",
       "5   친구가 쓰는거 빌려썼다가 소음도 없이 분사력도 엄청 좋길래 구매했습니다.앞에 그림은...  \n",
       "6   잠깐 틀어봤는데 집에있는 다른 가습기보다 분무량이 훨씬 많아서 깜짝놀랐네요;;; 가...  \n",
       "7   사는 김에 필터 5개 더 받는 흰색으로 구매했어요. 깔끔하고 귀엽네요. 분사력도 괜...  \n",
       "8   사무실에서 씁니다. 이리저리 색깔있는것 보다 흰색이 깨끗하고 심플해서 좋네요. 설명...  \n",
       "9   아주 미니미니하지만 분사력은 정말 마음에 듭니다.약할줄 알았는데 정말 좋아요@ 무드...  \n",
       "10  분사력최고네요색상랜덤해서 2천원 싸게 샀는데 여기에 판매하는 색상은 파스텔톤색이라 ...  \n",
       "11  화요일쯤 받아서 사용중인데 쪼꼬만게 분사력도 쎄고 좋아요 ㅎㅎ 물을 max까지 받아...  \n",
       "12  너무 귀엽고, 성능도 괜찮네요. 미니여서 잘 안될줄 알았는데, 생각보다 분무량도 많...  \n",
       "13  배송 빨라서 좋습니다. 주문 다음날 바로 왔어요 실물 앙증맞고 귀엽네요ㅋㅋ 가습 잘...  \n",
       "14  배송도 바로 보내주시고 화이트라 할인된가격에필터까지 다섯개 추가로 더ㅈ받았으니 완전...  \n",
       "15  가습기 사면서 고려했던건 딱 두개에요 분사력과 세척이 쉬운지. 세척이 번거로우면 비...  \n",
       "16  배송 빠르고요오자마자 사용해봤어요일단 디자인은 진짜 이뻐요사이즈도  작아서 책상에 ...  \n",
       "17  가격대비 제품구성이나 가습기능, 전등기능 괜찮은 편입니다.다만, USB연결선이 불량...  \n",
       "18  비염이 심해서 구입했습니다. 생각보다 분무량 넉넉하구요, max로 채워서 꺼짐없이계...  \n",
       "19  주문하고 그 다음날 받았습니다 디자인은 화면 그대로 깔끔하고 귀엽습니다분무량 좋습니...  "
      ]
     },
     "execution_count": 413,
     "metadata": {},
     "output_type": "execute_result"
    }
   ],
   "source": [
    "df"
   ]
  },
  {
   "cell_type": "code",
   "execution_count": 414,
   "metadata": {},
   "outputs": [],
   "source": [
    "df.to_excel(\"review_crawling.xlsx\")"
   ]
  }
 ],
 "metadata": {
  "kernelspec": {
   "display_name": "Python 3",
   "language": "python",
   "name": "python3"
  },
  "language_info": {
   "codemirror_mode": {
    "name": "ipython",
    "version": 3
   },
   "file_extension": ".py",
   "mimetype": "text/x-python",
   "name": "python",
   "nbconvert_exporter": "python",
   "pygments_lexer": "ipython3",
   "version": "3.7.0"
  }
 },
 "nbformat": 4,
 "nbformat_minor": 2
}
